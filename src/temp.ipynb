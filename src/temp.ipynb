{
 "cells": [
  {
   "cell_type": "code",
   "execution_count": 1,
   "metadata": {},
   "outputs": [],
   "source": [
    "from symreg.symbolic_regressor import SymbolicRegressor\n",
    "from symreg.symbolic_regressor import simplify\n",
    "import numpy as np"
   ]
  },
  {
   "cell_type": "code",
   "execution_count": 2,
   "metadata": {},
   "outputs": [
    {
     "name": "stdout",
     "output_type": "stream",
     "text": [
      "np.multiply(np.power(10, np.add(5, 4)), x)\n",
      "np.multiply(1e+09, x)\n"
     ]
    }
   ],
   "source": [
    "from gxgp.node import Node\n",
    "import numpy as np\n",
    "from gxgp.utils import Operator\n",
    "\n",
    "tree = Node(Operator(\"np.multiply\", np.multiply, 2), [Node(Operator(\"np.power\", np.power, 2), [Node(10), Node(Operator(\"np.add\", np.add, 2), [Node(5), Node(4)])]), Node('x')])\n",
    "simplified_tree = simplify(tree)\n",
    "print(tree)\n",
    "print(simplified_tree)  # Expected: Node with value \"x1\""
   ]
  },
  {
   "cell_type": "code",
   "execution_count": 5,
   "metadata": {},
   "outputs": [
    {
     "name": "stdout",
     "output_type": "stream",
     "text": [
      "(5000, 2) (5000,)\n",
      "SymbolicRegressor initialized\n",
      "\n",
      "Generation 1\n",
      "Best MSE: 729.3145693648842\n",
      "Best Individual: np.tan(np.add(0.528718, 0.876091))\n",
      "\n",
      "Generation 2\n",
      "Best MSE: 713.6152480755632\n",
      "Best Individual: np.add(np.power(0.125613, np.subtract(-0.353758, 0.614957)), np.add(np.multiply(0.705412, np.multiply(np.power(0.504768, 0.207186), np.sqrt(np.exp(-0.624208)))), np.sin(np.exp(np.sin(np.sin(-0.160243))))))\n",
      "np.add(np.power(0.125613, np.subtract(-0.353758, 0.614957)), np.add(np.multiply(0.705412, np.multiply(np.power(0.504768, 0.207186), np.sqrt(np.exp(-0.624208)))), np.sin(np.exp(np.sin(np.sin(-0.160243))))))\n"
     ]
    }
   ],
   "source": [
    "from symreg.symbolic_regressor import SymbolicRegressor\n",
    "import numpy as np\n",
    "import random\n",
    "\n",
    "problem = np.load(\"../data/problem_7.npz\")\n",
    "X = problem[\"x\"].T\n",
    "y = problem[\"y\"]\n",
    "\n",
    "print(X.shape, y.shape)\n",
    "\n",
    "sr = SymbolicRegressor(population_size=500, generations=2)\n",
    "res = sr.fit(X, y)\n",
    "print(res)"
   ]
  },
  {
   "cell_type": "code",
   "execution_count": 6,
   "metadata": {},
   "outputs": [
    {
     "name": "stdout",
     "output_type": "stream",
     "text": [
      "np.add(np.power(0.125613, np.subtract(-0.353758, 0.614957)), np.add(np.multiply(0.705412, np.multiply(np.power(0.504768, 0.207186), np.sqrt(np.exp(-0.624208)))), np.sin(np.exp(np.sin(np.sin(-0.160243))))))\n",
      "8.66212\n"
     ]
    }
   ],
   "source": [
    "print(res)\n",
    "simplified_tree = simplify(res)\n",
    "print(simplified_tree)"
   ]
  },
  {
   "cell_type": "code",
   "execution_count": 3,
   "metadata": {},
   "outputs": [
    {
     "name": "stdout",
     "output_type": "stream",
     "text": [
      "(5000, 2) (5000,)\n",
      "SymbolicRegressor initialized\n",
      "np.multiply(np.divide(x0, np.sin(x0)), np.sin(np.exp(-0.992587)))\n"
     ]
    }
   ],
   "source": [
    "from symreg.symbolic_regressor import SymbolicRegressor\n",
    "import numpy as np\n",
    "import random\n",
    "\n",
    "problem = np.load(\"../data/problem_7.npz\")\n",
    "X = problem[\"x\"].T\n",
    "y = problem[\"y\"]\n",
    "\n",
    "print(X.shape, y.shape)\n",
    "\n",
    "sr = SymbolicRegressor(max_depth=7, stopping_criteria=0, generations=10, population_size=30)\n",
    "pop = sr.generate_population_parallel(X, y)\n",
    "individual = random.choice(pop)\n",
    "print(individual)"
   ]
  },
  {
   "cell_type": "code",
   "execution_count": 20,
   "metadata": {},
   "outputs": [
    {
     "name": "stdout",
     "output_type": "stream",
     "text": [
      "np.tan(np.tan(np.power(np.exp(np.add(np.divide(np.tan(-0.883724), x0), -0.102226)), np.cos(np.cos(np.power(np.multiply(x1, -0.740115), np.cos(x1)))))))\n"
     ]
    }
   ],
   "source": [
    "individual = random.choice(pop)\n",
    "print(individual)"
   ]
  },
  {
   "cell_type": "code",
   "execution_count": 21,
   "metadata": {},
   "outputs": [
    {
     "name": "stdout",
     "output_type": "stream",
     "text": [
      "np.tan(np.tan(np.power(np.exp(np.add(np.divide(np.tan(-0.883724), x0), -0.102226)), np.cos(np.cos(np.power(np.multiply(x1, -0.740115), np.cos(x1)))))))\n",
      "np.tan(np.tan(np.power(np.exp(np.add(np.divide(-1.21888, x0), -0.102226)), np.cos(np.cos(np.power(np.multiply(x1, -0.740115), np.cos(x1)))))))\n"
     ]
    }
   ],
   "source": [
    "print(individual)\n",
    "simplified_tree = simplify(individual)\n",
    "print(simplified_tree)"
   ]
  }
 ],
 "metadata": {
  "kernelspec": {
   "display_name": "ci-Fkz7zezH-py3.13",
   "language": "python",
   "name": "python3"
  },
  "language_info": {
   "codemirror_mode": {
    "name": "ipython",
    "version": 3
   },
   "file_extension": ".py",
   "mimetype": "text/x-python",
   "name": "python",
   "nbconvert_exporter": "python",
   "pygments_lexer": "ipython3",
   "version": "3.13.1"
  }
 },
 "nbformat": 4,
 "nbformat_minor": 2
}
