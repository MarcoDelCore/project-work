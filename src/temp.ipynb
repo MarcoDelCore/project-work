{
 "cells": [
  {
   "cell_type": "code",
   "execution_count": 1,
   "metadata": {},
   "outputs": [
    {
     "name": "stdout",
     "output_type": "stream",
     "text": [
      "Solving problem 2...\n",
      "X shape: (3, 5000)\n",
      "\n",
      "Training complete.\n",
      "Besto solution: np.arcsinh(np.arcsinh(np.reciprocal(np.power(-0.390629, -3.87797))))\n"
     ]
    }
   ],
   "source": [
    "from gxgp.utils import Operator\n",
    "from symreg.symbolic_regressor import SymbolicRegressor\n",
    "from symreg.symbolic_regressor import simplify\n",
    "import numpy as np\n",
    "\n",
    "n = 2\n",
    "numpy_operators = [\n",
    "            Operator(\"np.add\", np.add, 2),\n",
    "            Operator(\"np.subtract\", np.subtract, 2),\n",
    "            Operator(\"np.multiply\", np.multiply, 2),\n",
    "            Operator(\"np.divide\", np.divide, 2),\n",
    "            Operator(\"np.power\", np.power, 2),\n",
    "            Operator(\"np.exp\", np.exp, 1),\n",
    "            Operator(\"np.sqrt\", np.sqrt, 1),\n",
    "            Operator(\"np.sin\", np.sin, 1),\n",
    "            Operator(\"np.cos\", np.cos, 1),\n",
    "            Operator(\"np.tan\", np.tan, 1),\n",
    "            Operator(\"np.log\", np.log, 1),\n",
    "            Operator(\"np.abs\", np.abs, 1),\n",
    "            Operator(\"np.negative\", np.negative, 1),\n",
    "            Operator(\"np.reciprocal\", np.reciprocal, 1),\n",
    "            Operator(\"np.square\", np.square, 1),\n",
    "            Operator(\"np.cbrt\", np.cbrt, 1),\n",
    "            Operator(\"np.log1p\", np.log1p, 1),\n",
    "            Operator(\"np.expm1\", np.expm1, 1),\n",
    "            Operator(\"np.sinh\", np.sinh, 1),\n",
    "            Operator(\"np.cosh\", np.cosh, 1),\n",
    "            Operator(\"np.tanh\", np.tanh, 1),\n",
    "            Operator(\"np.arcsin\", np.arcsin, 1),\n",
    "            Operator(\"np.arccos\", np.arccos, 1),\n",
    "            Operator(\"np.arctan\", np.arctan, 1),\n",
    "            Operator(\"np.arcsinh\", np.arcsinh, 1),\n",
    "            Operator(\"np.arccosh\", np.arccosh, 1),\n",
    "            Operator(\"np.arctanh\", np.arctanh, 1),\n",
    "            Operator(\"np.maximum\", np.maximum, 2),\n",
    "            Operator(\"np.minimum\", np.minimum, 2),\n",
    "        ]\n",
    "\n",
    "problem = np.load(f\"../data/problem_{n}.npz\")\n",
    "X = problem[\"x\"]\n",
    "y = problem[\"y\"]\n",
    "\n",
    "print(f\"Solving problem {n}...\")\n",
    "print(f\"X shape: {X.shape}\")\n",
    "\n",
    "sr = SymbolicRegressor(operators=numpy_operators, population_size=50, generations=10, stopping_criteria=0)\n",
    "res = sr.generate_population(X, y)\n",
    "print()\n",
    "print(\"Training complete.\")\n",
    "print(f\"Besto solution: {simplify(res[0])}\")"
   ]
  },
  {
   "cell_type": "code",
   "execution_count": 2,
   "metadata": {},
   "outputs": [
    {
     "name": "stdout",
     "output_type": "stream",
     "text": [
      "np.tanh(np.sinh(-0.0755913))\n"
     ]
    }
   ],
   "source": [
    "import random\n",
    "ind = random.choice(res)\n",
    "print(ind)"
   ]
  },
  {
   "cell_type": "code",
   "execution_count": 3,
   "metadata": {},
   "outputs": [
    {
     "name": "stdout",
     "output_type": "stream",
     "text": [
      "np.tanh(0)\n"
     ]
    }
   ],
   "source": [
    "from symreg.symbolic_regressor import copy_tree\n",
    "ind2 = ind.bytes()\n",
    "print(ind2)"
   ]
  }
 ],
 "metadata": {
  "kernelspec": {
   "display_name": "ci-Fkz7zezH-py3.13",
   "language": "python",
   "name": "python3"
  },
  "language_info": {
   "codemirror_mode": {
    "name": "ipython",
    "version": 3
   },
   "file_extension": ".py",
   "mimetype": "text/x-python",
   "name": "python",
   "nbconvert_exporter": "python",
   "pygments_lexer": "ipython3",
   "version": "3.13.1"
  }
 },
 "nbformat": 4,
 "nbformat_minor": 2
}
