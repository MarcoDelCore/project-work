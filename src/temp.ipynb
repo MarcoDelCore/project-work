{
 "cells": [
  {
   "cell_type": "code",
   "execution_count": 1,
   "metadata": {},
   "outputs": [
    {
     "ename": "ImportError",
     "evalue": "cannot import name 'simplify' from 'symreg.symbolic_regressor' (/Users/Marco/Desktop/PoliTo/Laurea Magistrale/II Anno/I Semestre/Computational Intelligence/project-work/src/symreg/symbolic_regressor.py)",
     "output_type": "error",
     "traceback": [
      "\u001b[0;31m---------------------------------------------------------------------------\u001b[0m",
      "\u001b[0;31mImportError\u001b[0m                               Traceback (most recent call last)",
      "Cell \u001b[0;32mIn[1], line 3\u001b[0m\n\u001b[1;32m      1\u001b[0m \u001b[38;5;28;01mfrom\u001b[39;00m \u001b[38;5;21;01mgxgp\u001b[39;00m\u001b[38;5;21;01m.\u001b[39;00m\u001b[38;5;21;01mutils\u001b[39;00m \u001b[38;5;28;01mimport\u001b[39;00m Operator\n\u001b[1;32m      2\u001b[0m \u001b[38;5;28;01mfrom\u001b[39;00m \u001b[38;5;21;01msymreg\u001b[39;00m\u001b[38;5;21;01m.\u001b[39;00m\u001b[38;5;21;01msymbolic_regressor\u001b[39;00m \u001b[38;5;28;01mimport\u001b[39;00m SymbolicRegressor\n\u001b[0;32m----> 3\u001b[0m \u001b[38;5;28;01mfrom\u001b[39;00m \u001b[38;5;21;01msymreg\u001b[39;00m\u001b[38;5;21;01m.\u001b[39;00m\u001b[38;5;21;01msymbolic_regressor\u001b[39;00m \u001b[38;5;28;01mimport\u001b[39;00m simplify\n\u001b[1;32m      4\u001b[0m \u001b[38;5;28;01mimport\u001b[39;00m \u001b[38;5;21;01mnumpy\u001b[39;00m \u001b[38;5;28;01mas\u001b[39;00m \u001b[38;5;21;01mnp\u001b[39;00m\n\u001b[1;32m      6\u001b[0m n \u001b[38;5;241m=\u001b[39m \u001b[38;5;241m2\u001b[39m\n",
      "\u001b[0;31mImportError\u001b[0m: cannot import name 'simplify' from 'symreg.symbolic_regressor' (/Users/Marco/Desktop/PoliTo/Laurea Magistrale/II Anno/I Semestre/Computational Intelligence/project-work/src/symreg/symbolic_regressor.py)"
     ]
    }
   ],
   "source": [
    "from gxgp.utils import Operator\n",
    "from symreg.symbolic_regressor import SymbolicRegressor\n",
    "import numpy as np\n",
    "\n",
    "n = 2\n",
    "numpy_operators = {\n",
    "    \"np.add\": Operator(np.add, 2),\n",
    "    \"np.subtract\": Operator(np.subtract, 2),\n",
    "    \"np.multiply\": Operator(np.multiply, 2),\n",
    "    \"np.divide\": Operator(np.divide, 2),\n",
    "    \"np.power\": Operator(np.power, 2),\n",
    "    \"np.exp\": Operator(np.exp, 1),\n",
    "    \"np.sqrt\": Operator(np.sqrt, 1),\n",
    "    \"np.sin\": Operator(np.sin, 1),\n",
    "    \"np.cos\": Operator(np.cos, 1),\n",
    "    \"np.tan\": Operator(np.tan, 1),\n",
    "    \"np.log\": Operator(np.log, 1),\n",
    "    \"np.abs\": Operator(np.abs, 1),\n",
    "    \"np.negative\": Operator(np.negative, 1),\n",
    "    \"np.reciprocal\": Operator(np.reciprocal, 1),\n",
    "    \"np.square\": Operator(np.square, 1),\n",
    "    \"np.cbrt\": Operator(np.cbrt, 1),\n",
    "    \"np.log1p\": Operator(np.log1p, 1),\n",
    "    \"np.expm1\": Operator(np.expm1, 1),\n",
    "    \"np.sinh\": Operator(np.sinh, 1),\n",
    "    \"np.cosh\": Operator(np.cosh, 1),\n",
    "    \"np.tanh\": Operator(np.tanh, 1),\n",
    "    \"np.arcsin\": Operator(np.arcsin, 1),\n",
    "    \"np.arccos\": Operator(np.arccos, 1),\n",
    "    \"np.arctan\": Operator(np.arctan, 1),\n",
    "    \"np.arcsinh\": Operator(np.arcsinh, 1),\n",
    "    \"np.arccosh\": Operator(np.arccosh, 1),\n",
    "    \"np.arctanh\": Operator(np.arctanh, 1),\n",
    "    \"np.maximum\": Operator(np.maximum, 2),\n",
    "    \"np.minimum\": Operator(np.minimum, 2),\n",
    "}\n",
    "\n",
    "problem = np.load(f\"../data/problem_{n}.npz\")\n",
    "X = problem[\"x\"]\n",
    "y = problem[\"y\"]\n",
    "\n",
    "print(f\"Solving problem {n}...\")\n",
    "print(f\"X shape: {X.shape}\")\n",
    "\n",
    "sr = SymbolicRegressor(operators=numpy_operators, population_size=50, generations=10, stopping_criteria=0)\n",
    "res = sr.generate_population(X, y)\n",
    "print()\n",
    "print(\"Training complete.\")\n",
    "print(f\"Besto solution: {res[0]}\")"
   ]
  },
  {
   "cell_type": "code",
   "execution_count": 2,
   "metadata": {},
   "outputs": [
    {
     "name": "stdout",
     "output_type": "stream",
     "text": [
      "np.arctanh(np.square(np.cos(np.arcsin(0.031396))))\n",
      "np.sqrt(np.log(np.reciprocal(np.negative(0.976707))))\n"
     ]
    }
   ],
   "source": [
    "import random\n",
    "p1 = random.choice(res)\n",
    "p2 = random.choice(res)\n",
    "print(p1)\n",
    "print(p2)"
   ]
  },
  {
   "cell_type": "code",
   "execution_count": 32,
   "metadata": {},
   "outputs": [
    {
     "name": "stdout",
     "output_type": "stream",
     "text": [
      "np.sqrt\n",
      "np.sqrt(np.log(np.reciprocal(np.negative(0.976707))))\n",
      "np.sqrt(np.log(np.arccos(np.expm1(np.log1p(0.891946)))))\n",
      "np.sqrt(np.log(np.reciprocal(np.negative(0.976707))))\n"
     ]
    }
   ],
   "source": [
    "ind = sr.deepcopy_tree(p2)\n",
    "print(ind)\n",
    "ind2 = sr.subtree_mutation(ind)\n",
    "print(ind2)\n",
    "print(ind)"
   ]
  },
  {
   "cell_type": "code",
   "execution_count": 4,
   "metadata": {},
   "outputs": [
    {
     "name": "stdout",
     "output_type": "stream",
     "text": [
      "np.sin\n"
     ]
    }
   ],
   "source": [
    "from gxgp.utils import Operator\n",
    "import numpy as np\n",
    "import random \n",
    "\n",
    "numpy_operators = {\n",
    "    \"np.add\": Operator(np.add, 2),\n",
    "    \"np.subtract\": Operator(np.subtract, 2),\n",
    "    \"np.multiply\": Operator(np.multiply, 2),\n",
    "    \"np.divide\": Operator(np.divide, 2),\n",
    "    \"np.power\": Operator(np.power, 2),\n",
    "    \"np.exp\": Operator(np.exp, 1),\n",
    "    \"np.sqrt\": Operator(np.sqrt, 1),\n",
    "    \"np.sin\": Operator(np.sin, 1),\n",
    "    \"np.cos\": Operator(np.cos, 1),\n",
    "    \"np.tan\": Operator(np.tan, 1),\n",
    "    \"np.log\": Operator(np.log, 1),\n",
    "    \"np.abs\": Operator(np.abs, 1),\n",
    "    \"np.negative\": Operator(np.negative, 1),\n",
    "    \"np.reciprocal\": Operator(np.reciprocal, 1),\n",
    "    \"np.square\": Operator(np.square, 1),\n",
    "    \"np.cbrt\": Operator(np.cbrt, 1),\n",
    "    \"np.log1p\": Operator(np.log1p, 1),\n",
    "    \"np.expm1\": Operator(np.expm1, 1),\n",
    "    \"np.sinh\": Operator(np.sinh, 1),\n",
    "    \"np.cosh\": Operator(np.cosh, 1),\n",
    "    \"np.tanh\": Operator(np.tanh, 1),\n",
    "    \"np.arcsin\": Operator(np.arcsin, 1),\n",
    "    \"np.arccos\": Operator(np.arccos, 1),\n",
    "    \"np.arctan\": Operator(np.arctan, 1),\n",
    "    \"np.arcsinh\": Operator(np.arcsinh, 1),\n",
    "    \"np.arccosh\": Operator(np.arccosh, 1),\n",
    "    \"np.arctanh\": Operator(np.arctanh, 1),\n",
    "    \"np.maximum\": Operator(np.maximum, 2),\n",
    "    \"np.minimum\": Operator(np.minimum, 2),\n",
    "}\n",
    "\n",
    "print(random.choice(list(numpy_operators.keys())))"
   ]
  }
 ],
 "metadata": {
  "kernelspec": {
   "display_name": "ci-Fkz7zezH-py3.13",
   "language": "python",
   "name": "python3"
  },
  "language_info": {
   "codemirror_mode": {
    "name": "ipython",
    "version": 3
   },
   "file_extension": ".py",
   "mimetype": "text/x-python",
   "name": "python",
   "nbconvert_exporter": "python",
   "pygments_lexer": "ipython3",
   "version": "3.13.1"
  }
 },
 "nbformat": 4,
 "nbformat_minor": 2
}
