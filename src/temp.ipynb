{
 "cells": [
  {
   "cell_type": "code",
   "execution_count": 1,
   "metadata": {},
   "outputs": [
    {
     "name": "stdout",
     "output_type": "stream",
     "text": [
      "Solving problem 2...\n",
      "X shape: (3, 5000)\n",
      "\n",
      "Training complete.\n",
      "Besto solution: np.maximum(np.negative(np.subtract(0.589704, x2)), np.negative(np.arcsin(-0.631748)))\n"
     ]
    }
   ],
   "source": [
    "from gxgp.utils import Operator\n",
    "from symreg.symbolic_regressor import SymbolicRegressor\n",
    "import numpy as np\n",
    "\n",
    "n = 2\n",
    "numpy_operators = {\n",
    "    \"np.add\": Operator(np.add, 2),\n",
    "    \"np.subtract\": Operator(np.subtract, 2),\n",
    "    \"np.multiply\": Operator(np.multiply, 2),\n",
    "    \"np.divide\": Operator(np.divide, 2),\n",
    "    \"np.power\": Operator(np.power, 2),\n",
    "    \"np.exp\": Operator(np.exp, 1),\n",
    "    \"np.sqrt\": Operator(np.sqrt, 1),\n",
    "    \"np.sin\": Operator(np.sin, 1),\n",
    "    \"np.cos\": Operator(np.cos, 1),\n",
    "    \"np.tan\": Operator(np.tan, 1),\n",
    "    \"np.log\": Operator(np.log, 1),\n",
    "    \"np.abs\": Operator(np.abs, 1),\n",
    "    \"np.negative\": Operator(np.negative, 1),\n",
    "    \"np.reciprocal\": Operator(np.reciprocal, 1),\n",
    "    \"np.square\": Operator(np.square, 1),\n",
    "    \"np.cbrt\": Operator(np.cbrt, 1),\n",
    "    \"np.log1p\": Operator(np.log1p, 1),\n",
    "    \"np.expm1\": Operator(np.expm1, 1),\n",
    "    \"np.sinh\": Operator(np.sinh, 1),\n",
    "    \"np.cosh\": Operator(np.cosh, 1),\n",
    "    \"np.tanh\": Operator(np.tanh, 1),\n",
    "    \"np.arcsin\": Operator(np.arcsin, 1),\n",
    "    \"np.arccos\": Operator(np.arccos, 1),\n",
    "    \"np.arctan\": Operator(np.arctan, 1),\n",
    "    \"np.arcsinh\": Operator(np.arcsinh, 1),\n",
    "    \"np.arccosh\": Operator(np.arccosh, 1),\n",
    "    \"np.arctanh\": Operator(np.arctanh, 1),\n",
    "    \"np.maximum\": Operator(np.maximum, 2),\n",
    "    \"np.minimum\": Operator(np.minimum, 2),\n",
    "}\n",
    "\n",
    "problem = np.load(f\"../data/problem_{n}.npz\")\n",
    "X = problem[\"x\"]\n",
    "y = problem[\"y\"]\n",
    "\n",
    "print(f\"Solving problem {n}...\")\n",
    "print(f\"X shape: {X.shape}\")\n",
    "\n",
    "sr = SymbolicRegressor(operators=numpy_operators, population_size=50, generations=10, stopping_criteria=0)\n",
    "res = sr.generate_population(X, y)\n",
    "print()\n",
    "print(\"Training complete.\")\n",
    "print(f\"Besto solution: {res[0]}\")"
   ]
  },
  {
   "cell_type": "code",
   "execution_count": 2,
   "metadata": {},
   "outputs": [
    {
     "name": "stdout",
     "output_type": "stream",
     "text": [
      "np.cosh(np.negative(np.exp(np.arctan(np.reciprocal(0.0137192)))))\n",
      "np.multiply(np.tanh(np.log1p(0.0937136)), np.log1p(np.expm1(0.728782)))\n"
     ]
    }
   ],
   "source": [
    "import random\n",
    "p1 = random.choice(res)\n",
    "p2 = random.choice(res)\n",
    "print(p1)\n",
    "print(p2)"
   ]
  },
  {
   "cell_type": "code",
   "execution_count": 3,
   "metadata": {},
   "outputs": [
    {
     "name": "stdout",
     "output_type": "stream",
     "text": [
      "p1: np.cosh(np.negative(np.exp(np.arctan(np.reciprocal(0.0137192)))))\n",
      "p2: np.multiply(np.tanh(np.log1p(0.0937136)), np.log1p(np.expm1(0.728782)))\n",
      "deepcppy tree: np.multiply(temp, temp)\n",
      "xover swap subtree: np.cosh(np.multiply(temp, temp))\n",
      "point mutation: np.cosh(x2)\n",
      "subtree mutation: np.cosh(np.maximum(-0.377546, -0.490426))\n",
      "hoist mutation: np.cosh(temp)\n",
      "p1: np.cosh(np.negative(temp))\n",
      "p2: np.multiply(np.tanh(temp), np.log1p(temp))\n"
     ]
    }
   ],
   "source": [
    "print(f\"p1: {p1}\")\n",
    "print(f\"p2: {p2}\")\n",
    "ind = sr.deepcopy_tree(p2)\n",
    "\"\"\"ind2 = sr.xover_swap_subtree(p1, p2)\n",
    "ind3 = sr.point_mutation(p1)\n",
    "ind4 = sr.subtree_mutation(p1)\n",
    "ind5 = sr.hoist_mutation(p1)\n",
    "print(f\"deepcppy tree: {ind}\")\n",
    "print(f\"xover swap subtree: {ind2}\")\n",
    "print(f\"point mutation: {ind3}\")\n",
    "print(f\"subtree mutation: {ind4}\")\n",
    "print(f\"hoist mutation: {ind5}\")\n",
    "print(f\"p1: {p1}\")\n",
    "print(f\"p2: {p2}\")\"\"\"\n"
   ]
  },
  {
   "cell_type": "code",
   "execution_count": 4,
   "metadata": {},
   "outputs": [
    {
     "name": "stdout",
     "output_type": "stream",
     "text": [
      "np.arctan\n"
     ]
    }
   ],
   "source": [
    "from gxgp.utils import Operator\n",
    "import numpy as np\n",
    "import random \n",
    "\n",
    "numpy_operators = {\n",
    "    \"np.add\": Operator(np.add, 2),\n",
    "    \"np.subtract\": Operator(np.subtract, 2),\n",
    "    \"np.multiply\": Operator(np.multiply, 2),\n",
    "    \"np.divide\": Operator(np.divide, 2),\n",
    "    \"np.power\": Operator(np.power, 2),\n",
    "    \"np.exp\": Operator(np.exp, 1),\n",
    "    \"np.sqrt\": Operator(np.sqrt, 1),\n",
    "    \"np.sin\": Operator(np.sin, 1),\n",
    "    \"np.cos\": Operator(np.cos, 1),\n",
    "    \"np.tan\": Operator(np.tan, 1),\n",
    "    \"np.log\": Operator(np.log, 1),\n",
    "    \"np.abs\": Operator(np.abs, 1),\n",
    "    \"np.negative\": Operator(np.negative, 1),\n",
    "    \"np.reciprocal\": Operator(np.reciprocal, 1),\n",
    "    \"np.square\": Operator(np.square, 1),\n",
    "    \"np.cbrt\": Operator(np.cbrt, 1),\n",
    "    \"np.log1p\": Operator(np.log1p, 1),\n",
    "    \"np.expm1\": Operator(np.expm1, 1),\n",
    "    \"np.sinh\": Operator(np.sinh, 1),\n",
    "    \"np.cosh\": Operator(np.cosh, 1),\n",
    "    \"np.tanh\": Operator(np.tanh, 1),\n",
    "    \"np.arcsin\": Operator(np.arcsin, 1),\n",
    "    \"np.arccos\": Operator(np.arccos, 1),\n",
    "    \"np.arctan\": Operator(np.arctan, 1),\n",
    "    \"np.arcsinh\": Operator(np.arcsinh, 1),\n",
    "    \"np.arccosh\": Operator(np.arccosh, 1),\n",
    "    \"np.arctanh\": Operator(np.arctanh, 1),\n",
    "    \"np.maximum\": Operator(np.maximum, 2),\n",
    "    \"np.minimum\": Operator(np.minimum, 2),\n",
    "}\n",
    "\n",
    "print(random.choice(list(numpy_operators.keys())))"
   ]
  }
 ],
 "metadata": {
  "kernelspec": {
   "display_name": "ci-Fkz7zezH-py3.13",
   "language": "python",
   "name": "python3"
  },
  "language_info": {
   "codemirror_mode": {
    "name": "ipython",
    "version": 3
   },
   "file_extension": ".py",
   "mimetype": "text/x-python",
   "name": "python",
   "nbconvert_exporter": "python",
   "pygments_lexer": "ipython3",
   "version": "3.13.1"
  }
 },
 "nbformat": 4,
 "nbformat_minor": 2
}
