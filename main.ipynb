{
 "cells": [
  {
   "cell_type": "code",
   "execution_count": 1,
   "metadata": {},
   "outputs": [
    {
     "name": "stdout",
     "output_type": "stream",
     "text": [
      "Problem 1: 0\n",
      "Problem 2: 1.90587e+15\n",
      "Problem 3: 8985.78\n",
      "Problem 4: 1.0172\n",
      "Problem 5: 2.64178e-17\n",
      "Problem 6: 9.82411e-10\n",
      "Problem 7: 29609.3\n",
      "Problem 8: 1.84037e+08\n"
     ]
    }
   ],
   "source": [
    "import s322783\n",
    "import numpy as np\n",
    "\n",
    "for i in range(1, 9):\n",
    "    problem = np.load(f'data/problem_{i}.npz')\n",
    "    x = problem['x']\n",
    "    y = problem['y']\n",
    "\n",
    "    try:\n",
    "        func = s322783.get_f(i)\n",
    "\n",
    "        mse = 100*np.square(y-func(x)).sum()/len(y)\n",
    "        print(f\"Problem {i}: {mse:g}\")\n",
    "    except Exception as e:\n",
    "        print(f\"Problem {i}: {e}\")"
   ]
  }
 ],
 "metadata": {
  "kernelspec": {
   "display_name": "ci-Fkz7zezH-py3.13",
   "language": "python",
   "name": "python3"
  },
  "language_info": {
   "codemirror_mode": {
    "name": "ipython",
    "version": 3
   },
   "file_extension": ".py",
   "mimetype": "text/x-python",
   "name": "python",
   "nbconvert_exporter": "python",
   "pygments_lexer": "ipython3",
   "version": "3.13.1"
  }
 },
 "nbformat": 4,
 "nbformat_minor": 2
}
